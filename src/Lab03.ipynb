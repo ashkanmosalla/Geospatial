{
 "cells": [
  {
   "cell_type": "code",
   "execution_count": null,
   "metadata": {},
   "outputs": [],
   "source": [
    "import ee\n",
    "import geemap\n",
    "\n",
    "# Initialize the Earth Engine module.\n",
    "ee.Initialize()\n",
    "\n",
    "# Define the area of interest with a more precise boundary for Fars province.\n",
    "# This example uses a rough approximation. For accurate studies, use detailed coordinates or an imported shape.\n",
    "fars_province_boundary = ee.Geometry.Polygon(\n",
    "        [[[51.0, 28.0], [51.0, 31.0], [55.0, 31.0], [55.0, 28.0]]]\n",
    "    )\n",
    "\n",
    "# Filter Sentinel-2 imagery for the specified time range and area, with cloud cover less than 20%.\n",
    "sentinel_images = ee.ImageCollection('COPERNICUS/S2') \\\n",
    "    .filterDate('2021-01-01', '2021-12-31') \\\n",
    "    .filterBounds(fars_province_boundary) \\\n",
    "    .filter(ee.Filter.lt('CLOUDY_PIXEL_PERCENTAGE', 20))\n",
    "\n",
    "# Create a cloud-free composite and clip it to the Fars province boundary to focus on the study area.\n",
    "composite_clipped = sentinel_images.median().clip(fars_province_boundary)\n",
    "\n",
    "# Select bands for the RGB visualization. These bands correspond to natural colors.\n",
    "rgb_bands = composite_clipped.select(['B4', 'B3', 'B2'])\n",
    "\n",
    "# Initialize a map.\n",
    "Map = geemap.Map()\n",
    "Map.centerObject(fars_province_boundary, 8)  # Adjust the zoom level to suit your visualization needs.\n",
    "\n",
    "# Add the clipped RGB composite to the map.\n",
    "Map.addLayer(rgb_bands, {'min': 0, 'max': 3000, 'bands': ['B4', 'B3', 'B2']}, 'RGB Composite of Fars Province')\n",
    "\n",
    "# Display the map.\n",
    "Map\n"
   ]
  },
  {
   "cell_type": "markdown",
   "metadata": {},
   "source": [
    "# Question 1 is below and Q2 is aboves"
   ]
  },
  {
   "cell_type": "code",
   "execution_count": null,
   "metadata": {},
   "outputs": [],
   "source": [
    "import ee\n",
    "import geemap\n",
    "\n",
    "Map = geemap.Map()\n",
    "\n",
    "dataset = ee.Image('USGS/SRTMGL1_003')\n",
    "DEM = dataset.select('elevation')\n",
    "fars_boundary = ee.Geometry.Polygon(\n",
    "    [[[51.0, 28.0], [51.0, 31.0], [55.0, 31.0], [55.0, 28.0]]]\n",
    ")\n",
    "\n",
    "clipped_DEM = DEM.clip(fars_boundary)\n",
    "\n",
    "# Set the visualization parameters\n",
    "visParams = {\n",
    "    'min': 0,\n",
    "    'max': 4000,\n",
    "    'palette': ['blue', 'green', 'yellow', 'orange', 'red']\n",
    "}\n",
    "\n",
    "Map.addLayer(clipped_DEM, visParams, 'Fars Province DEM')\n",
    "Map.setCenter(52.6842, 29.6916, 7)\n",
    "Map"
   ]
  }
 ],
 "metadata": {
  "language_info": {
   "name": "python"
  }
 },
 "nbformat": 4,
 "nbformat_minor": 2
}
