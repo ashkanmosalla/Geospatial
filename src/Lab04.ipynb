{
 "cells": [
  {
   "cell_type": "markdown",
   "metadata": {},
   "source": [
    "## Question 1"
   ]
  },
  {
   "cell_type": "markdown",
   "metadata": {},
   "source": [
    "import ee\n",
    "import geemap\n",
    "\n",
    "# Initialize the Earth Engine module.\n",
    "ee.Initialize()\n",
    "\n",
    "# Load the TIGER/2018/Counties feature collection.\n",
    "counties = ee.FeatureCollection(\"TIGER/2018/Counties\")\n",
    "\n",
    "# Filter the collection for counties named 'Knox'.\n",
    "knox_counties = counties.filter(ee.Filter.eq(\"NAME\", \"Knox\"))\n",
    "\n",
    "# Use geemap to convert the feature collection to a pandas DataFrame.\n",
    "knox_counties_df = geemap.ee_to_df(knox_counties)\n",
    "\n",
    "# Now you can count the number of 'Knox' counties using the length of the dataframe.\n",
    "number_of_knox_counties = len(knox_counties_df)\n",
    "\n",
    "print(f\"There are {number_of_knox_counties} counties named Knox in the US.\")"
   ]
  },
  {
   "cell_type": "markdown",
   "metadata": {},
   "source": []
  }
 ],
 "metadata": {
  "language_info": {
   "name": "python"
  }
 },
 "nbformat": 4,
 "nbformat_minor": 2
}
